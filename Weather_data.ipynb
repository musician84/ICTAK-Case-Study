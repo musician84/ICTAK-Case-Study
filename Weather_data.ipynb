{
  "nbformat": 4,
  "nbformat_minor": 0,
  "metadata": {
    "colab": {
      "provenance": []
    },
    "kernelspec": {
      "name": "python3",
      "display_name": "Python 3"
    },
    "language_info": {
      "name": "python"
    }
  },
  "cells": [
    {
      "cell_type": "code",
      "execution_count": 6,
      "metadata": {
        "colab": {
          "base_uri": "https://localhost:8080/"
        },
        "id": "pIfInTJ94x4m",
        "outputId": "adf7a0b1-06df-413f-c3e6-a183d0ed63da"
      },
      "outputs": [
        {
          "output_type": "stream",
          "name": "stdout",
          "text": [
            "The weather condition is: Hot\n",
            "Average Temperature: 24.90 °C\n",
            "Average Humidity: 67.60 %\n"
          ]
        }
      ],
      "source": [
        "# Define weather data variables\n",
        "temperature = 35.0  # Temperature in degrees Celsius\n",
        "humidity = 70        # Humidity in percentage\n",
        "precipitation = 0.0  # Precipitation in millimeters\n",
        "\n",
        "# Determine weather condition based on temperature, humidity, and precipitation\n",
        "def determine_weather(temperature, humidity, precipitation):\n",
        "    if precipitation > 5.0:\n",
        "        weather_condition = \"Rainy\"\n",
        "    elif humidity > 80:\n",
        "        weather_condition = \"Humid\"\n",
        "    elif temperature > 30:\n",
        "        weather_condition = \"Hot\"\n",
        "    elif temperature < 10:\n",
        "        weather_condition = \"Cold\"\n",
        "    elif precipitation > 0:\n",
        "        weather_condition = \"Partly Rainy\"\n",
        "    else:\n",
        "        weather_condition = \"Sunny\"\n",
        "\n",
        "    return weather_condition\n",
        "\n",
        "# Get the weather condition\n",
        "weather_condition = determine_weather(temperature, humidity, precipitation)\n",
        "\n",
        "# Print the weather condition\n",
        "print(f\"The weather condition is: {weather_condition}\")\n",
        "\n",
        "#Sample weather data for multiple days\n",
        "weather_data = [\n",
        "    {\"date\": \"2024-08-15\", \"temperature\": 24.5, \"humidity\": 65},\n",
        "    {\"date\": \"2024-08-16\", \"temperature\": 26.0, \"humidity\": 70},\n",
        "    {\"date\": \"2024-08-17\", \"temperature\": 22.8, \"humidity\": 60},\n",
        "    {\"date\": \"2024-08-18\", \"temperature\": 27.3, \"humidity\": 75},\n",
        "    {\"date\": \"2024-08-19\", \"temperature\": 23.9, \"humidity\": 68}\n",
        "]\n",
        "\n",
        "# Function to calculate average temperature\n",
        "def calculate_average_temperature(data):\n",
        "    total_temperature = sum(entry[\"temperature\"] for entry in data)\n",
        "    average_temperature = total_temperature / len(data)\n",
        "    return average_temperature\n",
        "\n",
        "# Function to calculate average humidity\n",
        "def calculate_average_humidity(data):\n",
        "    total_humidity = sum(entry[\"humidity\"] for entry in data)\n",
        "    average_humidity = total_humidity / len(data)\n",
        "    return average_humidity\n",
        "\n",
        "# Calculate averages\n",
        "average_temperature = calculate_average_temperature(weather_data)\n",
        "average_humidity = calculate_average_humidity(weather_data)\n",
        "\n",
        "# Print the results\n",
        "print(f\"Average Temperature: {average_temperature:.2f} °C\")\n",
        "print(f\"Average Humidity: {average_humidity:.2f} %\")\n"
      ]
    }
  ]
}